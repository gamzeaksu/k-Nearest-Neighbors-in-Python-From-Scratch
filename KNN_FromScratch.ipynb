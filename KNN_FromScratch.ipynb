{
 "cells": [
  {
   "cell_type": "code",
   "execution_count": 1,
   "metadata": {},
   "outputs": [],
   "source": [
    "import numpy as np\n",
    "import pandas as pd\n",
    "from sklearn import  datasets #for the loading iris dataset\n",
    "from sklearn.model_selection import train_test_split #for the splitting data\n",
    "from sklearn.neighbors import KNeighborsClassifier #for the implementing \n",
    "from sklearn.metrics import confusion_matrix\n",
    "from sklearn.metrics import accuracy_score\n",
    "import random"
   ]
  },
  {
   "cell_type": "code",
   "execution_count": 2,
   "metadata": {},
   "outputs": [],
   "source": [
    "#for loading data\n",
    "iris = datasets.load_iris()\n",
    "x = iris.data    #iris features\n",
    "y = iris.target  #iris types"
   ]
  },
  {
   "cell_type": "code",
   "execution_count": 3,
   "metadata": {},
   "outputs": [
    {
     "data": {
      "text/plain": [
       "(150, 4)"
      ]
     },
     "execution_count": 3,
     "metadata": {},
     "output_type": "execute_result"
    }
   ],
   "source": [
    "x.shape  #iris data set has 4 features and 15 rows"
   ]
  },
  {
   "cell_type": "code",
   "execution_count": 4,
   "metadata": {},
   "outputs": [
    {
     "data": {
      "text/plain": [
       "(150,)"
      ]
     },
     "execution_count": 4,
     "metadata": {},
     "output_type": "execute_result"
    }
   ],
   "source": [
    "y.shape"
   ]
  },
  {
   "cell_type": "code",
   "execution_count": 5,
   "metadata": {},
   "outputs": [
    {
     "data": {
      "text/plain": [
       "['sepal length (cm)',\n",
       " 'sepal width (cm)',\n",
       " 'petal length (cm)',\n",
       " 'petal width (cm)']"
      ]
     },
     "execution_count": 5,
     "metadata": {},
     "output_type": "execute_result"
    }
   ],
   "source": [
    "iris.feature_names #features names"
   ]
  },
  {
   "cell_type": "code",
   "execution_count": 6,
   "metadata": {},
   "outputs": [
    {
     "data": {
      "text/plain": [
       "array(['setosa', 'versicolor', 'virginica'], dtype='<U10')"
      ]
     },
     "execution_count": 6,
     "metadata": {},
     "output_type": "execute_result"
    }
   ],
   "source": [
    "iris.target_names #iris types names"
   ]
  },
  {
   "cell_type": "code",
   "execution_count": 7,
   "metadata": {},
   "outputs": [
    {
     "name": "stdout",
     "output_type": "stream",
     "text": [
      "[[5.1 3.5 1.4 0.2]\n",
      " [4.9 3.  1.4 0.2]\n",
      " [4.7 3.2 1.3 0.2]\n",
      " [4.6 3.1 1.5 0.2]\n",
      " [5.  3.6 1.4 0.2]\n",
      " [5.4 3.9 1.7 0.4]\n",
      " [4.6 3.4 1.4 0.3]\n",
      " [5.  3.4 1.5 0.2]\n",
      " [4.4 2.9 1.4 0.2]\n",
      " [4.9 3.1 1.5 0.1]\n",
      " [5.4 3.7 1.5 0.2]\n",
      " [4.8 3.4 1.6 0.2]\n",
      " [4.8 3.  1.4 0.1]\n",
      " [4.3 3.  1.1 0.1]\n",
      " [5.8 4.  1.2 0.2]\n",
      " [5.7 4.4 1.5 0.4]\n",
      " [5.4 3.9 1.3 0.4]\n",
      " [5.1 3.5 1.4 0.3]\n",
      " [5.7 3.8 1.7 0.3]\n",
      " [5.1 3.8 1.5 0.3]\n",
      " [5.4 3.4 1.7 0.2]\n",
      " [5.1 3.7 1.5 0.4]\n",
      " [4.6 3.6 1.  0.2]\n",
      " [5.1 3.3 1.7 0.5]\n",
      " [4.8 3.4 1.9 0.2]\n",
      " [5.  3.  1.6 0.2]\n",
      " [5.  3.4 1.6 0.4]\n",
      " [5.2 3.5 1.5 0.2]\n",
      " [5.2 3.4 1.4 0.2]\n",
      " [4.7 3.2 1.6 0.2]\n",
      " [4.8 3.1 1.6 0.2]\n",
      " [5.4 3.4 1.5 0.4]\n",
      " [5.2 4.1 1.5 0.1]\n",
      " [5.5 4.2 1.4 0.2]\n",
      " [4.9 3.1 1.5 0.2]\n",
      " [5.  3.2 1.2 0.2]\n",
      " [5.5 3.5 1.3 0.2]\n",
      " [4.9 3.6 1.4 0.1]\n",
      " [4.4 3.  1.3 0.2]\n",
      " [5.1 3.4 1.5 0.2]\n",
      " [5.  3.5 1.3 0.3]\n",
      " [4.5 2.3 1.3 0.3]\n",
      " [4.4 3.2 1.3 0.2]\n",
      " [5.  3.5 1.6 0.6]\n",
      " [5.1 3.8 1.9 0.4]\n",
      " [4.8 3.  1.4 0.3]\n",
      " [5.1 3.8 1.6 0.2]\n",
      " [4.6 3.2 1.4 0.2]\n",
      " [5.3 3.7 1.5 0.2]\n",
      " [5.  3.3 1.4 0.2]\n",
      " [7.  3.2 4.7 1.4]\n",
      " [6.4 3.2 4.5 1.5]\n",
      " [6.9 3.1 4.9 1.5]\n",
      " [5.5 2.3 4.  1.3]\n",
      " [6.5 2.8 4.6 1.5]\n",
      " [5.7 2.8 4.5 1.3]\n",
      " [6.3 3.3 4.7 1.6]\n",
      " [4.9 2.4 3.3 1. ]\n",
      " [6.6 2.9 4.6 1.3]\n",
      " [5.2 2.7 3.9 1.4]\n",
      " [5.  2.  3.5 1. ]\n",
      " [5.9 3.  4.2 1.5]\n",
      " [6.  2.2 4.  1. ]\n",
      " [6.1 2.9 4.7 1.4]\n",
      " [5.6 2.9 3.6 1.3]\n",
      " [6.7 3.1 4.4 1.4]\n",
      " [5.6 3.  4.5 1.5]\n",
      " [5.8 2.7 4.1 1. ]\n",
      " [6.2 2.2 4.5 1.5]\n",
      " [5.6 2.5 3.9 1.1]\n",
      " [5.9 3.2 4.8 1.8]\n",
      " [6.1 2.8 4.  1.3]\n",
      " [6.3 2.5 4.9 1.5]\n",
      " [6.1 2.8 4.7 1.2]\n",
      " [6.4 2.9 4.3 1.3]\n",
      " [6.6 3.  4.4 1.4]\n",
      " [6.8 2.8 4.8 1.4]\n",
      " [6.7 3.  5.  1.7]\n",
      " [6.  2.9 4.5 1.5]\n",
      " [5.7 2.6 3.5 1. ]\n",
      " [5.5 2.4 3.8 1.1]\n",
      " [5.5 2.4 3.7 1. ]\n",
      " [5.8 2.7 3.9 1.2]\n",
      " [6.  2.7 5.1 1.6]\n",
      " [5.4 3.  4.5 1.5]\n",
      " [6.  3.4 4.5 1.6]\n",
      " [6.7 3.1 4.7 1.5]\n",
      " [6.3 2.3 4.4 1.3]\n",
      " [5.6 3.  4.1 1.3]\n",
      " [5.5 2.5 4.  1.3]\n",
      " [5.5 2.6 4.4 1.2]\n",
      " [6.1 3.  4.6 1.4]\n",
      " [5.8 2.6 4.  1.2]\n",
      " [5.  2.3 3.3 1. ]\n",
      " [5.6 2.7 4.2 1.3]\n",
      " [5.7 3.  4.2 1.2]\n",
      " [5.7 2.9 4.2 1.3]\n",
      " [6.2 2.9 4.3 1.3]\n",
      " [5.1 2.5 3.  1.1]\n",
      " [5.7 2.8 4.1 1.3]\n",
      " [6.3 3.3 6.  2.5]\n",
      " [5.8 2.7 5.1 1.9]\n",
      " [7.1 3.  5.9 2.1]\n",
      " [6.3 2.9 5.6 1.8]\n",
      " [6.5 3.  5.8 2.2]\n",
      " [7.6 3.  6.6 2.1]\n",
      " [4.9 2.5 4.5 1.7]\n",
      " [7.3 2.9 6.3 1.8]\n",
      " [6.7 2.5 5.8 1.8]\n",
      " [7.2 3.6 6.1 2.5]\n",
      " [6.5 3.2 5.1 2. ]\n",
      " [6.4 2.7 5.3 1.9]\n",
      " [6.8 3.  5.5 2.1]\n",
      " [5.7 2.5 5.  2. ]\n",
      " [5.8 2.8 5.1 2.4]\n",
      " [6.4 3.2 5.3 2.3]\n",
      " [6.5 3.  5.5 1.8]\n",
      " [7.7 3.8 6.7 2.2]\n",
      " [7.7 2.6 6.9 2.3]\n",
      " [6.  2.2 5.  1.5]\n",
      " [6.9 3.2 5.7 2.3]\n",
      " [5.6 2.8 4.9 2. ]\n",
      " [7.7 2.8 6.7 2. ]\n",
      " [6.3 2.7 4.9 1.8]\n",
      " [6.7 3.3 5.7 2.1]\n",
      " [7.2 3.2 6.  1.8]\n",
      " [6.2 2.8 4.8 1.8]\n",
      " [6.1 3.  4.9 1.8]\n",
      " [6.4 2.8 5.6 2.1]\n",
      " [7.2 3.  5.8 1.6]\n",
      " [7.4 2.8 6.1 1.9]\n",
      " [7.9 3.8 6.4 2. ]\n",
      " [6.4 2.8 5.6 2.2]\n",
      " [6.3 2.8 5.1 1.5]\n",
      " [6.1 2.6 5.6 1.4]\n",
      " [7.7 3.  6.1 2.3]\n",
      " [6.3 3.4 5.6 2.4]\n",
      " [6.4 3.1 5.5 1.8]\n",
      " [6.  3.  4.8 1.8]\n",
      " [6.9 3.1 5.4 2.1]\n",
      " [6.7 3.1 5.6 2.4]\n",
      " [6.9 3.1 5.1 2.3]\n",
      " [5.8 2.7 5.1 1.9]\n",
      " [6.8 3.2 5.9 2.3]\n",
      " [6.7 3.3 5.7 2.5]\n",
      " [6.7 3.  5.2 2.3]\n",
      " [6.3 2.5 5.  1.9]\n",
      " [6.5 3.  5.2 2. ]\n",
      " [6.2 3.4 5.4 2.3]\n",
      " [5.9 3.  5.1 1.8]]\n"
     ]
    }
   ],
   "source": [
    "print(x) #print features"
   ]
  },
  {
   "cell_type": "code",
   "execution_count": 8,
   "metadata": {},
   "outputs": [
    {
     "name": "stdout",
     "output_type": "stream",
     "text": [
      "[0 0 0 0 0 0 0 0 0 0 0 0 0 0 0 0 0 0 0 0 0 0 0 0 0 0 0 0 0 0 0 0 0 0 0 0 0\n",
      " 0 0 0 0 0 0 0 0 0 0 0 0 0 1 1 1 1 1 1 1 1 1 1 1 1 1 1 1 1 1 1 1 1 1 1 1 1\n",
      " 1 1 1 1 1 1 1 1 1 1 1 1 1 1 1 1 1 1 1 1 1 1 1 1 1 1 2 2 2 2 2 2 2 2 2 2 2\n",
      " 2 2 2 2 2 2 2 2 2 2 2 2 2 2 2 2 2 2 2 2 2 2 2 2 2 2 2 2 2 2 2 2 2 2 2 2 2\n",
      " 2 2]\n"
     ]
    }
   ],
   "source": [
    "print(y) #print target\n",
    "# 0 for the 'setosa', 1 for the 'versicolor', 2 for the 'virginica'"
   ]
  },
  {
   "cell_type": "code",
   "execution_count": 9,
   "metadata": {
    "scrolled": true
   },
   "outputs": [
    {
     "name": "stdout",
     "output_type": "stream",
     "text": [
      "DATAS\n",
      "    sepal length (cm)  sepal width (cm)  petal length (cm)  petal width (cm)\n",
      "0                5.1               3.5                1.4               0.2\n",
      "1                4.9               3.0                1.4               0.2\n",
      "2                4.7               3.2                1.3               0.2\n",
      "3                4.6               3.1                1.5               0.2\n",
      "4                5.0               3.6                1.4               0.2\n",
      "TARGETS\n",
      "    types\n",
      "0      0\n",
      "1      0\n",
      "2      0\n",
      "3      0\n",
      "4      0\n"
     ]
    }
   ],
   "source": [
    "dfX = pd.DataFrame(x, columns = iris['feature_names'])\n",
    "dfY = pd.DataFrame(y, columns = [\"types\"])\n",
    "print(\"DATAS\\n\",dfX.head())\n",
    "print(\"TARGETS\\n\",dfY.head())"
   ]
  },
  {
   "cell_type": "code",
   "execution_count": 10,
   "metadata": {},
   "outputs": [],
   "source": [
    "#split the data into x_train, x_test, y_train, y_test\n",
    "x_train, x_test, y_train, y_test = train_test_split(x,y,test_size=0.30,random_state=0)"
   ]
  },
  {
   "cell_type": "code",
   "execution_count": 11,
   "metadata": {},
   "outputs": [
    {
     "name": "stdout",
     "output_type": "stream",
     "text": [
      "Shape of the x_train: (105, 4)\n",
      "Shape of the y_train: (105,)\n",
      "Shape of the x_test: (45, 4)\n",
      "Shape of the y_test: (45,)\n"
     ]
    }
   ],
   "source": [
    "print(\"Shape of the x_train:\",x_train.shape) \n",
    "print(\"Shape of the y_train:\",y_train.shape)\n",
    "print(\"Shape of the x_test:\", x_test.shape)\n",
    "print(\"Shape of the y_test:\", y_test.shape)"
   ]
  },
  {
   "cell_type": "code",
   "execution_count": 12,
   "metadata": {},
   "outputs": [],
   "source": [
    "class KNN():\n",
    "    \n",
    "    #k shows how many nearest neighbors to look and predict\n",
    "    def __init__(self,x_train,y_train, k):\n",
    "        self.k = k                          # k is an integer                  \n",
    "        self.x_train = x_train              # we get this as an array\n",
    "        self.y_train = y_train              # we get this as an array\n",
    "    \n",
    "    \n",
    "    #The predict function takes rows from x_test, predicts and returns y_pred.\n",
    "    def predict(self,x_test):\n",
    "        y_pred=[]  #a prediction array\n",
    "        for test_row in x_test: #test_row is a row in the x_test\n",
    "            y_pred.append(self.prediction(test_row))\n",
    "        return y_pred    \n",
    "    \n",
    "    #It takes the sorted distances with the sort_distance function and \n",
    "    #takes the first k distances out of them. With the function count, \n",
    "    #a selection is made among the first k neighbors.\n",
    "    def prediction(self, test_row):\n",
    "        distances = self.sort_distances(test_row)\n",
    "        neighbors = [] #an array for the first k neighbors\n",
    "        for i in range(self.k):   #The first k neighbors are taken from the sorted array list.\n",
    "            neighbors.append(distances[i][0]) \n",
    "        \n",
    "        pred = self.count(neighbors) #The result of the count function is returned.\n",
    "        return pred\n",
    "    \n",
    "    #formula in euclidean calculation\n",
    "    #sqrt((test_row[0]-train[0])**2 + (test_row[1]-train[1])**2 + (test_row[2]-train[2])**2 +(test_row[3]-train[3])**2)\n",
    "    #we have 4 features in iris dataset\n",
    "    def euclidean(self, test_row, train_row): \n",
    "        distance = 0.0\n",
    "        for i in range(len(test_row)): #test_row have 4 coulumn\n",
    "             distance += (test_row[i] - train_row[i])**2\n",
    "        return np.sqrt(distance)\n",
    "    \n",
    "    #sort_distances function sorts the distances and returns the sorted array.\n",
    "    def sort_distances(self, test_row):\n",
    "        distances = [] #an array for the distances \n",
    "        \n",
    "        for i in range(len(self.x_train)): #x_train has 105 rows\n",
    "            distances.append((self.y_train[i], self.euclidean(test_row, self.x_train[i])))    \n",
    "\n",
    "        distances.sort(key=lambda distances: distances[1]) #Sorted according to the distance\n",
    "        return distances\n",
    "    \n",
    "    #The count function takes whatever value is more in the neighbors and returns it.\n",
    "    def count(self, neighbors): \n",
    "        counts=[] #an array for the count\n",
    "        for i in range(len(neighbors)):\n",
    "            counts.append([neighbors[i], neighbors.count(neighbors[i])])\n",
    "            #Neighbors and the count value of neighbors is append to the counts array.\n",
    "        most = 0\n",
    "        pred=0  \n",
    "        for i in range(len(counts)): \n",
    "            if(most < counts[i][1]): #The most count value is returned.\n",
    "                most = counts[i][1]\n",
    "                pred = counts[i][0]\n",
    "        return pred  \n",
    "    \n"
   ]
  },
  {
   "cell_type": "code",
   "execution_count": 13,
   "metadata": {
    "scrolled": false
   },
   "outputs": [
    {
     "name": "stdout",
     "output_type": "stream",
     "text": [
      "\n",
      "K: 1 \n",
      "Score: 0.978\n",
      "Confusion Matrix:\n",
      " [[16  0  0]\n",
      " [ 0 17  1]\n",
      " [ 0  0 11]]\n",
      "\n",
      "K: 3 \n",
      "Score: 0.978\n",
      "Confusion Matrix:\n",
      " [[16  0  0]\n",
      " [ 0 17  1]\n",
      " [ 0  0 11]]\n",
      "\n",
      "K: 5 \n",
      "Score: 0.978\n",
      "Confusion Matrix:\n",
      " [[16  0  0]\n",
      " [ 0 17  1]\n",
      " [ 0  0 11]]\n"
     ]
    }
   ],
   "source": [
    "#first of all, implement the KNN algorithm using the sklearn library.\n",
    "#for the k = 1, k=3, k=5 Euclidean \n",
    "for k in [1,3,5]:\n",
    "    knn = KNeighborsClassifier(n_neighbors=k,         #Number of neighbors\n",
    "                               weights = \"uniform\",   #All points in each neighborhood are weighted equally.\n",
    "                               #algorithm=\"brute\",    \n",
    "                               metric= \"euclidean\")   #the distance metric\n",
    "    knn.fit(x_train,y_train)\n",
    "    y_pred = knn.predict(x_test)\n",
    "    print(\"\\nK: %d \\nScore: %.3f\" %(k,accuracy_score( y_test, y_pred)))  #accuracy score\n",
    "    print(\"Confusion Matrix:\\n\",confusion_matrix( y_test, y_pred))       #confusion matrix"
   ]
  },
  {
   "cell_type": "code",
   "execution_count": 14,
   "metadata": {
    "scrolled": false
   },
   "outputs": [
    {
     "name": "stdout",
     "output_type": "stream",
     "text": [
      "\n",
      "K: 1 \n",
      "Score: 0.978\n",
      "Confusion Matrix:\n",
      " [[16  0  0]\n",
      " [ 0 17  1]\n",
      " [ 0  0 11]]\n",
      "\n",
      "K: 3 \n",
      "Score: 0.978\n",
      "Confusion Matrix:\n",
      " [[16  0  0]\n",
      " [ 0 17  1]\n",
      " [ 0  0 11]]\n",
      "\n",
      "K: 35 \n",
      "Score: 0.933\n",
      "Confusion Matrix:\n",
      " [[16  0  0]\n",
      " [ 0 15  3]\n",
      " [ 0  0 11]]\n"
     ]
    }
   ],
   "source": [
    "for k in [1,3,35]:\n",
    "    knn = KNN(x_train,y_train,k)\n",
    "    y_pred = knn.predict(x_test)\n",
    "    print(\"\\nK: %d \\nScore: %.3f\" %(k,accuracy_score( y_test, y_pred)))  #accuracy score\n",
    "    print(\"Confusion Matrix:\\n\",confusion_matrix( y_test, y_pred))       #confusion matrix"
   ]
  },
  {
   "cell_type": "code",
   "execution_count": 15,
   "metadata": {},
   "outputs": [
    {
     "name": "stdout",
     "output_type": "stream",
     "text": [
      "Random K value:  63\n",
      "\n",
      "K: 63 \n",
      "Score: 0.867\n",
      "Confusion Matrix:\n",
      " [[16  0  0]\n",
      " [ 0 12  6]\n",
      " [ 0  0 11]]\n"
     ]
    }
   ],
   "source": [
    "#In this section, the KNN algorithm is implemented for a random value of k.\n",
    "random_k = random.randint(1,105)      #An arbitrary value of k between 1 and 105\n",
    "print(\"Random K value: \", random_k)\n",
    "knn = KNN(x_train, y_train, random_k)\n",
    "y_pred = knn.predict(x_test)\n",
    "print(\"\\nK: %d \\nScore: %.3f\" %(random_k,accuracy_score( y_test, y_pred)))  #accuracy score       \n",
    "print(\"Confusion Matrix:\\n\",confusion_matrix( y_test, y_pred))              #confusion matrix"
   ]
  },
  {
   "cell_type": "code",
   "execution_count": 16,
   "metadata": {},
   "outputs": [
    {
     "name": "stdout",
     "output_type": "stream",
     "text": [
      "Enter K value: 5\n",
      "\n",
      "K: 5 \n",
      "Score: 0.978\n",
      "Confusion Matrix:\n",
      " [[16  0  0]\n",
      " [ 0 17  1]\n",
      " [ 0  0 11]]\n"
     ]
    }
   ],
   "source": [
    "k_value = int(input(\"Enter K value: \"))   \n",
    "knn = KNN(x_train, y_train, k_value)\n",
    "y_pred = knn.predict(x_test)\n",
    "print(\"\\nK: %d \\nScore: %.3f\" %(k_value,accuracy_score( y_test, y_pred)))  #accuracy score       \n",
    "print(\"Confusion Matrix:\\n\",confusion_matrix( y_test, y_pred))              #confusion matrix"
   ]
  },
  {
   "cell_type": "code",
   "execution_count": null,
   "metadata": {},
   "outputs": [],
   "source": []
  }
 ],
 "metadata": {
  "kernelspec": {
   "display_name": "Python 3",
   "language": "python",
   "name": "python3"
  },
  "language_info": {
   "codemirror_mode": {
    "name": "ipython",
    "version": 3
   },
   "file_extension": ".py",
   "mimetype": "text/x-python",
   "name": "python",
   "nbconvert_exporter": "python",
   "pygments_lexer": "ipython3",
   "version": "3.8.3"
  }
 },
 "nbformat": 4,
 "nbformat_minor": 4
}
